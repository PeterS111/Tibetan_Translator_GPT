{
  "nbformat": 4,
  "nbformat_minor": 0,
  "metadata": {
    "colab": {
      "provenance": []
    },
    "kernelspec": {
      "name": "python3",
      "display_name": "Python 3"
    },
    "language_info": {
      "name": "python"
    }
  },
  "cells": [
    {
      "cell_type": "markdown",
      "source": [
        "<a target=\"_blank\" href=\"https://colab.research.google.com/github/PeterS111/Tibetan_Translator_GPT/blob/main/Code/TIBETAN_TRANSLATOR_GPT.ipynb\">\n",
        "  <img src=\"https://colab.research.google.com/assets/colab-badge.svg\" alt=\"Open In Colab\"/>\n",
        "</a>"
      ],
      "metadata": {
        "id": "6dlqiu7bpHL-"
      }
    },
    {
      "cell_type": "code",
      "source": [
        "!pip install openai\n",
        "import openai"
      ],
      "metadata": {
        "id": "piq0n93fo9QW"
      },
      "execution_count": null,
      "outputs": []
    },
    {
      "cell_type": "code",
      "source": [
        "openai.api_key = \"YOUR KEY HERE\""
      ],
      "metadata": {
        "id": "58KmR5TBme4_"
      },
      "execution_count": null,
      "outputs": []
    },
    {
      "cell_type": "code",
      "source": [
        "\n",
        "def run_gpt(in_str, model_choice):\n",
        "\n",
        "    if model_choice == \"tibetan_english\":\n",
        "        model = \"curie:ft-poetry-of-kent:lotsawa-v1-2023-08-12-14-14-27\"\n",
        "        stop=[\"<|engend|>\"]\n",
        "        full_prompt = \"<|tibstart|>\" + in_str + \"<|tibend|><|engstart|>\"\n",
        "        out_file_name = \"Tibetan_English.txt\"\n",
        "        out_file= open(out_file_name, \"a\", encoding = \"utf-8\")\n",
        "\n",
        "    if model_choice == \"english_tibetan\":\n",
        "        model = \"curie:ft-poetry-of-kent:et-lotsawa-v1-2023-08-14-11-47-34\"\n",
        "        stop=[\"<|tibend|>\"]\n",
        "        full_prompt = \"<|engstart|>\" + in_str + \"<|engend|><|tibstart|>\"\n",
        "        out_file_name = \"English_Tibetan.txt\"\n",
        "        out_file= open(out_file_name, \"a\", encoding = \"utf-8\")\n",
        "\n",
        "    response = openai.Completion.create(\n",
        "      model=model,\n",
        "      prompt = full_prompt,\n",
        "      temperature=0,\n",
        "      max_tokens=1000,\n",
        "      stop=stop\n",
        "\n",
        "    )\n",
        "\n",
        "    answer = response[\"choices\"][0][\"text\"].strip()\n",
        "\n",
        "    out_str = \"\\n\"  +in_str  + answer\n",
        "    out_file.write(out_str)\n",
        "    print(out_str)\n",
        "    out_file.close()"
      ],
      "metadata": {
        "id": "l8KtTFW7msOm"
      },
      "execution_count": null,
      "outputs": []
    },
    {
      "cell_type": "code",
      "source": [
        "# TIBETAN TO ENGLISH:\n",
        "\n",
        "prompt = \"\"\"\n",
        "\n",
        "སྦོམ་ཐུང་གསུས་པ་འཕྱང་ཞིང་ལྷུ་ལག་རགས།། རུས་པའི་ཕྱག་རྒྱ་དྲུག་དང་སྦྲུལ་གྱིས་སྤྲས།། ཐོད་སྐམ་ཅོད་པན་མགོ་རློན་ཕྲེང་བ་འཕྱང་།།\n",
        "\n",
        "\"\"\"\n",
        "\n",
        "run_gpt(prompt, \"tibetan_english\")"
      ],
      "metadata": {
        "id": "tC5iNQRamufW"
      },
      "execution_count": null,
      "outputs": []
    },
    {
      "cell_type": "code",
      "source": [
        "# ENGLISH TO TIBETAN\n",
        "\n",
        "prompt = \"\"\"\n",
        "\n",
        "May all beings perfect the accumulation of merit and wisdom, and enjoy the purelands of the three kāyas!\n",
        "\n",
        "\"\"\"\n",
        "\n",
        "run_gpt(prompt, \"english_tibetan\")"
      ],
      "metadata": {
        "id": "mYYpPc9Lmz2-"
      },
      "execution_count": null,
      "outputs": []
    },
    {
      "cell_type": "code",
      "source": [],
      "metadata": {
        "id": "CyCGGZZUnATG"
      },
      "execution_count": null,
      "outputs": []
    }
  ]
}